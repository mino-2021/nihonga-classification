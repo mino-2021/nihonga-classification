{
 "cells": [
  {
   "cell_type": "code",
   "execution_count": 1,
   "id": "understood-substitute",
   "metadata": {},
   "outputs": [],
   "source": [
    "import numpy as np # linear algebra\n",
    "import pandas as pd # data processing, CSV file I/O (e.g. pd.read_csv)\n",
    "import os"
   ]
  },
  {
   "cell_type": "code",
   "execution_count": 8,
   "id": "completed-mount",
   "metadata": {},
   "outputs": [],
   "source": [
    "# the max number of files is 5\n",
    "# input format: pd.DataFrame\n",
    "\n",
    "label = [\n",
    "        'pred_0', 'pred_1', 'pred_2', 'pred_3'\n",
    "        ]\n",
    "def blend(a, b, c = 0, d = 0, e = 0):\n",
    "    if (not isinstance(c, pd.DataFrame)) and (not isinstance(d, pd.DataFrame)) and (not isinstance(e, pd.DataFrame)):\n",
    "        output = a.copy()\n",
    "        for i in label:\n",
    "            output[i] = a[i] * 0.5 + b[i] * 0.5\n",
    "    elif (not isinstance(d, pd.DataFrame)) and (not isinstance(e, pd.DataFrame)):\n",
    "        output = a.copy() # 0.5 + 0.3 + 0.2 \n",
    "        for i in label:\n",
    "            output[i] = a[i] * 0.5 + b[i] * 0.3 + c[i] * 0.2\n",
    "    elif (not isinstance(e, pd.DataFrame)):\n",
    "        output = a.copy()  # 0.45 + 0.25 + 0.2 + 0.1\n",
    "        for i in label:\n",
    "            #output[i] = a[i] * 0.45 + b[i] * 0.25 + c[i] * 0.2 + d[i] * 0.1\n",
    "            #output[i] = a[i] * 0.4 + b[i] * 0.2 + c[i] * 0.2 + d[i] * 0.2   \n",
    "            output[i] = a[i] * 0.25 + b[i] * 0.25 + c[i] * 0.25 + d[i] * 0.25\n",
    "            output[i] = np.max([a[i], b[i], c[i], d[i]], axis=0)\n",
    "            #output[i] = a[i] * 0.4 + b[i] * 0.2 + c[i] * 0.2 + d[i] * 0.2\n",
    "    else: # 0.35 + 0.3 + 0.2 + 0.1 + 0.05\n",
    "        output = a.copy()\n",
    "        for i in label:\n",
    "            #output[i] = a[i] * 0.35 + b[i] * 0.3 + c[i] * 0.2 + d[i] * 0.1 + e[i] * 0.05\n",
    "            output[i] = a[i] * 0.2 + b[i] * 0.2 + c[i] * 0.2 + d[i] * 0.2 + e[i] * 0.2\n",
    "    #output[label] = np.clip(output[label], 0.002500, 0.941)\n",
    "    \n",
    "    return output\n"
   ]
  },
  {
   "cell_type": "code",
   "execution_count": 29,
   "id": "absent-outdoors",
   "metadata": {},
   "outputs": [],
   "source": [
    "#v16  55\n",
    "file2 = pd.read_csv(\"../output/103_topic_baseline_pred_0.89826-2.csv\") #885\n",
    "file1 = pd.read_csv(\"../output/102_topic_baseline_pred_0.89836-2.csv\") #879\n",
    "file3 = pd.read_csv(\"../output/006_topic_baseline_pred_0.98619-10.csv\") #882\n",
    "filea = blend(file1, file2, file3)"
   ]
  },
  {
   "cell_type": "code",
   "execution_count": 24,
   "id": "preliminary-internship",
   "metadata": {},
   "outputs": [],
   "source": [
    "#v15  55\n",
    "file2 = pd.read_csv(\"../output/103_topic_baseline_pred_0.89826-2.csv\") #885\n",
    "file1 = pd.read_csv(\"../output/102_topic_baseline_pred_0.89836-2.csv\") #879\n",
    "file3 = pd.read_csv(\"../output/001_topic_baseline_pred_000-tta.csv\") #882\n",
    "filea = blend(file1, file2,file3)"
   ]
  },
  {
   "cell_type": "code",
   "execution_count": 19,
   "id": "advance-understanding",
   "metadata": {},
   "outputs": [],
   "source": [
    "#v14  55\n",
    "file2 = pd.read_csv(\"../output/103_topic_baseline_pred_0.89826-2.csv\") #885\n",
    "file1 = pd.read_csv(\"../output/102_topic_baseline_pred_0.89836-2.csv\") #879\n",
    "file3 = pd.read_csv(\"../output/007_topic_baseline_pred_0.89947.csv\") #882\n",
    "filea = blend(file1, file2,file3)\n"
   ]
  },
  {
   "cell_type": "code",
   "execution_count": 13,
   "id": "residential-notification",
   "metadata": {},
   "outputs": [],
   "source": [
    "#v13  55\n",
    "\n",
    "file2 = pd.read_csv(\"../output/103_topic_baseline_pred_0.89826-2.csv\") #885\n",
    "file1 = pd.read_csv(\"../output/102_topic_baseline_pred_0.89836-2.csv\") #879\n",
    "\n",
    "filea = blend(file1, file2)\n"
   ]
  },
  {
   "cell_type": "code",
   "execution_count": 9,
   "id": "three-constraint",
   "metadata": {},
   "outputs": [],
   "source": [
    "#v12  55\n",
    "\n",
    "file2 = pd.read_csv(\"../output/007_topic_baseline_pred_0.89947.csv\") #882\n",
    "file1 = pd.read_csv(\"../output/102_topic_baseline_pred_0.89836-2.csv\") #879\n",
    "\n",
    "filea = blend(file1, file2)"
   ]
  },
  {
   "cell_type": "code",
   "execution_count": 3,
   "id": "stuck-brighton",
   "metadata": {},
   "outputs": [],
   "source": [
    "#v11 884 532\n",
    "file1 = pd.read_csv(\"../output/001_topic_baseline_pred_000-tta.csv\") #877\n",
    "file2 = pd.read_csv(\"../output/007_topic_baseline_pred_0.89947.csv\") #882\n",
    "file3 = pd.read_csv(\"../output/102_topic_baseline_pred_0.89836-2.csv\") #879\n",
    "\n",
    "filea = blend(file1, file2, file3)"
   ]
  },
  {
   "cell_type": "code",
   "execution_count": null,
   "id": "reasonable-shelter",
   "metadata": {},
   "outputs": [],
   "source": [
    "#v10 884 532\n",
    "file1 = pd.read_csv(\"../output/001_topic_baseline_pred_000-tta.csv\") #641\n",
    "file2 = pd.read_csv(\"../output/007_topic_baseline_pred_0.89947.csv\") #625\n",
    "file3 = pd.read_csv(\"../output/008_topic_baseline_pred_0.86317.csv\") #625\n",
    "\n",
    "filea = blend(file1, file2, file3)"
   ]
  },
  {
   "cell_type": "code",
   "execution_count": 3,
   "id": "acknowledged-ottawa",
   "metadata": {},
   "outputs": [],
   "source": [
    "#v9 886 4:4:2\n",
    "file1 = pd.read_csv(\"../output/001_topic_baseline_pred_000-tta.csv\") #641\n",
    "file2 = pd.read_csv(\"../output/007_topic_baseline_pred_0.89947.csv\") #625\n",
    "file3 = pd.read_csv(\"../output/008_topic_baseline_pred_0.86317.csv\") #625\n",
    "\n",
    "filea = blend(file1, file2, file3)"
   ]
  },
  {
   "cell_type": "code",
   "execution_count": 46,
   "id": "progressive-station",
   "metadata": {},
   "outputs": [],
   "source": [
    "#v8 884 4:4:2\n",
    "file1 = pd.read_csv(\"../output/001_topic_baseline_pred_000-tta.csv\") #641\n",
    "file2 = pd.read_csv(\"../output/007_topic_baseline_pred_0.89947.csv\") #625\n",
    "file3 = pd.read_csv(\"../output/002_topic_baseline_pred_0.88536-tta.csv\") #625\n",
    "\n",
    "filea = blend(file1, file2, file3)"
   ]
  },
  {
   "cell_type": "code",
   "execution_count": 40,
   "id": "relevant-attempt",
   "metadata": {},
   "outputs": [],
   "source": [
    "#v7 887 5:3:2\n",
    "file1 = pd.read_csv(\"../output/001_topic_baseline_pred_000-tta.csv\") #641\n",
    "file2 = pd.read_csv(\"../output/007_topic_baseline_pred_0.89947.csv\") #625\n",
    "file3 = pd.read_csv(\"../output/002_topic_baseline_pred_0.88536-tta.csv\") #625\n",
    "\n",
    "filea = blend(file1, file2, file3)"
   ]
  },
  {
   "cell_type": "code",
   "execution_count": 35,
   "id": "inside-excuse",
   "metadata": {},
   "outputs": [],
   "source": [
    "#v6 885\n",
    "\n",
    "file1 = pd.read_csv(\"../output/001_topic_baseline_pred_000-tta.csv\") #641\n",
    "file2 = pd.read_csv(\"../output/007_topic_baseline_pred_0.89947.csv\") #625\n",
    "\n",
    "filea = blend(file1, file2)\n",
    "\n",
    "#file3 = pd.read_csv(\"../output/006_topic_baseline_pred_0.98619-10.csv\")"
   ]
  },
  {
   "cell_type": "code",
   "execution_count": 26,
   "id": "fleet-calcium",
   "metadata": {},
   "outputs": [],
   "source": [
    "#08 v5\n",
    "file1 = pd.read_csv(\"../output/001_topic_baseline_pred_000-tta.csv\") #641\n",
    "file3 = pd.read_csv(\"../output/006_topic_baseline_pred_0.98619-10.csv\")\n",
    "file2 = pd.read_csv(\"../output/002_topic_baseline_pred_0.88536-tta.csv\") #625\n",
    "\n",
    "filea = blend(file1, file2, file3)"
   ]
  },
  {
   "cell_type": "code",
   "execution_count": 12,
   "id": "horizontal-albert",
   "metadata": {},
   "outputs": [],
   "source": [
    "#07 v4\n",
    "file1 = pd.read_csv(\"../output/001_topic_baseline_pred_000-tta.csv\") #641\n",
    "file2 = pd.read_csv(\"../output/002_topic_baseline_pred_0.88536-tta.csv\") #625\n",
    "file3 = pd.read_csv(\"../output/006_topic_baseline_pred_0.98619-10.csv\")\n",
    "\n",
    "filea = blend(file1, file2, file3)"
   ]
  },
  {
   "cell_type": "code",
   "execution_count": 4,
   "id": "cb0c818f",
   "metadata": {},
   "outputs": [],
   "source": [
    "#06\n",
    "file1 = pd.read_csv(\"../output/001_topic_baseline_pred_000-tta.csv\") #641\n",
    "file2 = pd.read_csv(\"../output/006_topic_baseline_pred_0.98619-10.csv\")\n",
    "\n",
    "filea = blend(file1, file2)"
   ]
  },
  {
   "cell_type": "code",
   "execution_count": 4,
   "id": "vocal-baker",
   "metadata": {},
   "outputs": [],
   "source": [
    "#05\n",
    "file1 = pd.read_csv(\"../output/001_topic_baseline_pred_000-tta3.csv\") #641\n",
    "file2 = pd.read_csv(\"../output/002_topic_baseline_pred_0.88536-tta.csv\") #625\n",
    "\n",
    "filea = blend(file1, file2)"
   ]
  },
  {
   "cell_type": "code",
   "execution_count": null,
   "id": "4d3eb6e2",
   "metadata": {},
   "outputs": [],
   "source": []
  },
  {
   "cell_type": "code",
   "execution_count": 5,
   "id": "c0ef3ec0",
   "metadata": {
    "scrolled": true
   },
   "outputs": [
    {
     "ename": "KeyError",
     "evalue": "'target'",
     "output_type": "error",
     "traceback": [
      "\u001b[0;31m---------------------------------------------------------------------------\u001b[0m",
      "\u001b[0;31mKeyError\u001b[0m                                  Traceback (most recent call last)",
      "\u001b[0;32m/opt/conda/lib/python3.7/site-packages/pandas/core/indexes/base.py\u001b[0m in \u001b[0;36mget_loc\u001b[0;34m(self, key, method, tolerance)\u001b[0m\n\u001b[1;32m   2897\u001b[0m             \u001b[0;32mtry\u001b[0m\u001b[0;34m:\u001b[0m\u001b[0;34m\u001b[0m\u001b[0;34m\u001b[0m\u001b[0m\n\u001b[0;32m-> 2898\u001b[0;31m                 \u001b[0;32mreturn\u001b[0m \u001b[0mself\u001b[0m\u001b[0;34m.\u001b[0m\u001b[0m_engine\u001b[0m\u001b[0;34m.\u001b[0m\u001b[0mget_loc\u001b[0m\u001b[0;34m(\u001b[0m\u001b[0mcasted_key\u001b[0m\u001b[0;34m)\u001b[0m\u001b[0;34m\u001b[0m\u001b[0;34m\u001b[0m\u001b[0m\n\u001b[0m\u001b[1;32m   2899\u001b[0m             \u001b[0;32mexcept\u001b[0m \u001b[0mKeyError\u001b[0m \u001b[0;32mas\u001b[0m \u001b[0merr\u001b[0m\u001b[0;34m:\u001b[0m\u001b[0;34m\u001b[0m\u001b[0;34m\u001b[0m\u001b[0m\n",
      "\u001b[0;32mpandas/_libs/index.pyx\u001b[0m in \u001b[0;36mpandas._libs.index.IndexEngine.get_loc\u001b[0;34m()\u001b[0m\n",
      "\u001b[0;32mpandas/_libs/index.pyx\u001b[0m in \u001b[0;36mpandas._libs.index.IndexEngine.get_loc\u001b[0;34m()\u001b[0m\n",
      "\u001b[0;32mpandas/_libs/hashtable_class_helper.pxi\u001b[0m in \u001b[0;36mpandas._libs.hashtable.PyObjectHashTable.get_item\u001b[0;34m()\u001b[0m\n",
      "\u001b[0;32mpandas/_libs/hashtable_class_helper.pxi\u001b[0m in \u001b[0;36mpandas._libs.hashtable.PyObjectHashTable.get_item\u001b[0;34m()\u001b[0m\n",
      "\u001b[0;31mKeyError\u001b[0m: 'target'",
      "\nThe above exception was the direct cause of the following exception:\n",
      "\u001b[0;31mKeyError\u001b[0m                                  Traceback (most recent call last)",
      "\u001b[0;32m<ipython-input-5-29d9f88c4282>\u001b[0m in \u001b[0;36m<module>\u001b[0;34m\u001b[0m\n\u001b[1;32m      6\u001b[0m \u001b[0mN\u001b[0m \u001b[0;34m=\u001b[0m \u001b[0;34m[\u001b[0m\u001b[0;36m60\u001b[0m\u001b[0;34m,\u001b[0m\u001b[0;36m42\u001b[0m\u001b[0;34m,\u001b[0m\u001b[0;36m132\u001b[0m\u001b[0;34m,\u001b[0m\u001b[0;36m42\u001b[0m\u001b[0;34m,\u001b[0m\u001b[0;36m42\u001b[0m\u001b[0;34m,\u001b[0m\u001b[0;36m60\u001b[0m\u001b[0;34m,\u001b[0m\u001b[0;36m48\u001b[0m\u001b[0;34m,\u001b[0m\u001b[0;36m30\u001b[0m\u001b[0;34m,\u001b[0m\u001b[0;36m30\u001b[0m\u001b[0;34m,\u001b[0m\u001b[0;36m66\u001b[0m\u001b[0;34m,\u001b[0m\u001b[0;36m30\u001b[0m\u001b[0;34m,\u001b[0m\u001b[0;36m42\u001b[0m\u001b[0;34m,\u001b[0m\u001b[0;36m30\u001b[0m\u001b[0;34m]\u001b[0m\u001b[0;34m\u001b[0m\u001b[0;34m\u001b[0m\u001b[0m\n\u001b[1;32m      7\u001b[0m \u001b[0;34m\u001b[0m\u001b[0m\n\u001b[0;32m----> 8\u001b[0;31m \u001b[0mcm\u001b[0m \u001b[0;34m=\u001b[0m \u001b[0mconfusion_matrix\u001b[0m\u001b[0;34m(\u001b[0m\u001b[0mfilea\u001b[0m\u001b[0;34m[\u001b[0m\u001b[0;34m'target'\u001b[0m\u001b[0;34m]\u001b[0m\u001b[0;34m,\u001b[0m \u001b[0mfilea\u001b[0m\u001b[0;34m[\u001b[0m\u001b[0;34m'pred'\u001b[0m\u001b[0;34m]\u001b[0m\u001b[0;34m)\u001b[0m\u001b[0;34m\u001b[0m\u001b[0;34m\u001b[0m\u001b[0m\n\u001b[0m\u001b[1;32m      9\u001b[0m \u001b[0;34m\u001b[0m\u001b[0m\n\u001b[1;32m     10\u001b[0m \u001b[0mplt\u001b[0m\u001b[0;34m.\u001b[0m\u001b[0mfigure\u001b[0m\u001b[0;34m(\u001b[0m\u001b[0mfigsize\u001b[0m\u001b[0;34m=\u001b[0m\u001b[0;34m(\u001b[0m\u001b[0;36m18\u001b[0m\u001b[0;34m,\u001b[0m \u001b[0;36m12\u001b[0m\u001b[0;34m)\u001b[0m\u001b[0;34m)\u001b[0m\u001b[0;34m\u001b[0m\u001b[0;34m\u001b[0m\u001b[0m\n",
      "\u001b[0;32m/opt/conda/lib/python3.7/site-packages/pandas/core/frame.py\u001b[0m in \u001b[0;36m__getitem__\u001b[0;34m(self, key)\u001b[0m\n\u001b[1;32m   2904\u001b[0m             \u001b[0;32mif\u001b[0m \u001b[0mself\u001b[0m\u001b[0;34m.\u001b[0m\u001b[0mcolumns\u001b[0m\u001b[0;34m.\u001b[0m\u001b[0mnlevels\u001b[0m \u001b[0;34m>\u001b[0m \u001b[0;36m1\u001b[0m\u001b[0;34m:\u001b[0m\u001b[0;34m\u001b[0m\u001b[0;34m\u001b[0m\u001b[0m\n\u001b[1;32m   2905\u001b[0m                 \u001b[0;32mreturn\u001b[0m \u001b[0mself\u001b[0m\u001b[0;34m.\u001b[0m\u001b[0m_getitem_multilevel\u001b[0m\u001b[0;34m(\u001b[0m\u001b[0mkey\u001b[0m\u001b[0;34m)\u001b[0m\u001b[0;34m\u001b[0m\u001b[0;34m\u001b[0m\u001b[0m\n\u001b[0;32m-> 2906\u001b[0;31m             \u001b[0mindexer\u001b[0m \u001b[0;34m=\u001b[0m \u001b[0mself\u001b[0m\u001b[0;34m.\u001b[0m\u001b[0mcolumns\u001b[0m\u001b[0;34m.\u001b[0m\u001b[0mget_loc\u001b[0m\u001b[0;34m(\u001b[0m\u001b[0mkey\u001b[0m\u001b[0;34m)\u001b[0m\u001b[0;34m\u001b[0m\u001b[0;34m\u001b[0m\u001b[0m\n\u001b[0m\u001b[1;32m   2907\u001b[0m             \u001b[0;32mif\u001b[0m \u001b[0mis_integer\u001b[0m\u001b[0;34m(\u001b[0m\u001b[0mindexer\u001b[0m\u001b[0;34m)\u001b[0m\u001b[0;34m:\u001b[0m\u001b[0;34m\u001b[0m\u001b[0;34m\u001b[0m\u001b[0m\n\u001b[1;32m   2908\u001b[0m                 \u001b[0mindexer\u001b[0m \u001b[0;34m=\u001b[0m \u001b[0;34m[\u001b[0m\u001b[0mindexer\u001b[0m\u001b[0;34m]\u001b[0m\u001b[0;34m\u001b[0m\u001b[0;34m\u001b[0m\u001b[0m\n",
      "\u001b[0;32m/opt/conda/lib/python3.7/site-packages/pandas/core/indexes/base.py\u001b[0m in \u001b[0;36mget_loc\u001b[0;34m(self, key, method, tolerance)\u001b[0m\n\u001b[1;32m   2898\u001b[0m                 \u001b[0;32mreturn\u001b[0m \u001b[0mself\u001b[0m\u001b[0;34m.\u001b[0m\u001b[0m_engine\u001b[0m\u001b[0;34m.\u001b[0m\u001b[0mget_loc\u001b[0m\u001b[0;34m(\u001b[0m\u001b[0mcasted_key\u001b[0m\u001b[0;34m)\u001b[0m\u001b[0;34m\u001b[0m\u001b[0;34m\u001b[0m\u001b[0m\n\u001b[1;32m   2899\u001b[0m             \u001b[0;32mexcept\u001b[0m \u001b[0mKeyError\u001b[0m \u001b[0;32mas\u001b[0m \u001b[0merr\u001b[0m\u001b[0;34m:\u001b[0m\u001b[0;34m\u001b[0m\u001b[0;34m\u001b[0m\u001b[0m\n\u001b[0;32m-> 2900\u001b[0;31m                 \u001b[0;32mraise\u001b[0m \u001b[0mKeyError\u001b[0m\u001b[0;34m(\u001b[0m\u001b[0mkey\u001b[0m\u001b[0;34m)\u001b[0m \u001b[0;32mfrom\u001b[0m \u001b[0merr\u001b[0m\u001b[0;34m\u001b[0m\u001b[0;34m\u001b[0m\u001b[0m\n\u001b[0m\u001b[1;32m   2901\u001b[0m \u001b[0;34m\u001b[0m\u001b[0m\n\u001b[1;32m   2902\u001b[0m         \u001b[0;32mif\u001b[0m \u001b[0mtolerance\u001b[0m \u001b[0;32mis\u001b[0m \u001b[0;32mnot\u001b[0m \u001b[0;32mNone\u001b[0m\u001b[0;34m:\u001b[0m\u001b[0;34m\u001b[0m\u001b[0;34m\u001b[0m\u001b[0m\n",
      "\u001b[0;31mKeyError\u001b[0m: 'target'"
     ]
    }
   ],
   "source": [
    "import matplotlib.pyplot as plt\n",
    "%matplotlib inline\n",
    "from sklearn.metrics import confusion_matrix\n",
    "from sklearn.metrics import accuracy_score\n",
    "import seaborn as sns\n",
    "N = [60,42,132,42,42,60,48,30,30,66,30,42,30]\n",
    "\n",
    "cm = confusion_matrix(filea['target'], filea['pred'])\n",
    "\n",
    "plt.figure(figsize=(18, 12))\n",
    "sns.heatmap(cm/N, annot=True) #, fmt='d')\n",
    "plt.xlim(12, 0)\n",
    "plt.ylim(0, 12)\n",
    "plt.show()\n",
    "accuracy_score(filea['target'], filea['pred'])"
   ]
  },
  {
   "cell_type": "code",
   "execution_count": 30,
   "id": "confused-observation",
   "metadata": {},
   "outputs": [
    {
     "data": {
      "text/html": [
       "<div>\n",
       "<style scoped>\n",
       "    .dataframe tbody tr th:only-of-type {\n",
       "        vertical-align: middle;\n",
       "    }\n",
       "\n",
       "    .dataframe tbody tr th {\n",
       "        vertical-align: top;\n",
       "    }\n",
       "\n",
       "    .dataframe thead th {\n",
       "        text-align: right;\n",
       "    }\n",
       "</style>\n",
       "<table border=\"1\" class=\"dataframe\">\n",
       "  <thead>\n",
       "    <tr style=\"text-align: right;\">\n",
       "      <th></th>\n",
       "      <th>id</th>\n",
       "      <th>y</th>\n",
       "      <th>pred_0</th>\n",
       "      <th>pred_1</th>\n",
       "      <th>pred_2</th>\n",
       "      <th>pred_3</th>\n",
       "    </tr>\n",
       "  </thead>\n",
       "  <tbody>\n",
       "    <tr>\n",
       "      <th>0</th>\n",
       "      <td>1</td>\n",
       "      <td>1</td>\n",
       "      <td>0.000289</td>\n",
       "      <td>0.499777</td>\n",
       "      <td>5.179732e-07</td>\n",
       "      <td>0.000594</td>\n",
       "    </tr>\n",
       "    <tr>\n",
       "      <th>1</th>\n",
       "      <td>2</td>\n",
       "      <td>0</td>\n",
       "      <td>0.398385</td>\n",
       "      <td>0.152827</td>\n",
       "      <td>3.950273e-06</td>\n",
       "      <td>0.000459</td>\n",
       "    </tr>\n",
       "    <tr>\n",
       "      <th>2</th>\n",
       "      <td>3</td>\n",
       "      <td>0</td>\n",
       "      <td>0.499973</td>\n",
       "      <td>0.000056</td>\n",
       "      <td>2.364689e-05</td>\n",
       "      <td>0.000027</td>\n",
       "    </tr>\n",
       "    <tr>\n",
       "      <th>3</th>\n",
       "      <td>4</td>\n",
       "      <td>2</td>\n",
       "      <td>0.006002</td>\n",
       "      <td>0.000397</td>\n",
       "      <td>4.902755e-01</td>\n",
       "      <td>0.021586</td>\n",
       "    </tr>\n",
       "    <tr>\n",
       "      <th>4</th>\n",
       "      <td>5</td>\n",
       "      <td>1</td>\n",
       "      <td>0.073622</td>\n",
       "      <td>0.465604</td>\n",
       "      <td>3.991356e-05</td>\n",
       "      <td>0.005900</td>\n",
       "    </tr>\n",
       "    <tr>\n",
       "      <th>...</th>\n",
       "      <td>...</td>\n",
       "      <td>...</td>\n",
       "      <td>...</td>\n",
       "      <td>...</td>\n",
       "      <td>...</td>\n",
       "      <td>...</td>\n",
       "    </tr>\n",
       "    <tr>\n",
       "      <th>1995</th>\n",
       "      <td>1996</td>\n",
       "      <td>1</td>\n",
       "      <td>0.000059</td>\n",
       "      <td>0.471539</td>\n",
       "      <td>6.254777e-05</td>\n",
       "      <td>0.042976</td>\n",
       "    </tr>\n",
       "    <tr>\n",
       "      <th>1996</th>\n",
       "      <td>1997</td>\n",
       "      <td>1</td>\n",
       "      <td>0.007335</td>\n",
       "      <td>0.489395</td>\n",
       "      <td>2.137375e-02</td>\n",
       "      <td>0.000094</td>\n",
       "    </tr>\n",
       "    <tr>\n",
       "      <th>1997</th>\n",
       "      <td>1998</td>\n",
       "      <td>2</td>\n",
       "      <td>0.000382</td>\n",
       "      <td>0.000626</td>\n",
       "      <td>4.996842e-01</td>\n",
       "      <td>0.000210</td>\n",
       "    </tr>\n",
       "    <tr>\n",
       "      <th>1998</th>\n",
       "      <td>1999</td>\n",
       "      <td>1</td>\n",
       "      <td>0.000677</td>\n",
       "      <td>0.467592</td>\n",
       "      <td>2.754655e-05</td>\n",
       "      <td>0.076144</td>\n",
       "    </tr>\n",
       "    <tr>\n",
       "      <th>1999</th>\n",
       "      <td>2000</td>\n",
       "      <td>1</td>\n",
       "      <td>0.000017</td>\n",
       "      <td>0.499994</td>\n",
       "      <td>4.046787e-07</td>\n",
       "      <td>0.000007</td>\n",
       "    </tr>\n",
       "  </tbody>\n",
       "</table>\n",
       "<p>2000 rows × 6 columns</p>\n",
       "</div>"
      ],
      "text/plain": [
       "        id  y    pred_0    pred_1        pred_2    pred_3\n",
       "0        1  1  0.000289  0.499777  5.179732e-07  0.000594\n",
       "1        2  0  0.398385  0.152827  3.950273e-06  0.000459\n",
       "2        3  0  0.499973  0.000056  2.364689e-05  0.000027\n",
       "3        4  2  0.006002  0.000397  4.902755e-01  0.021586\n",
       "4        5  1  0.073622  0.465604  3.991356e-05  0.005900\n",
       "...    ... ..       ...       ...           ...       ...\n",
       "1995  1996  1  0.000059  0.471539  6.254777e-05  0.042976\n",
       "1996  1997  1  0.007335  0.489395  2.137375e-02  0.000094\n",
       "1997  1998  2  0.000382  0.000626  4.996842e-01  0.000210\n",
       "1998  1999  1  0.000677  0.467592  2.754655e-05  0.076144\n",
       "1999  2000  1  0.000017  0.499994  4.046787e-07  0.000007\n",
       "\n",
       "[2000 rows x 6 columns]"
      ]
     },
     "execution_count": 30,
     "metadata": {},
     "output_type": "execute_result"
    }
   ],
   "source": [
    "filea"
   ]
  },
  {
   "cell_type": "code",
   "execution_count": 31,
   "id": "5e8d8d4b",
   "metadata": {},
   "outputs": [],
   "source": [
    "pred= filea.drop(['id','y'],axis=1).to_numpy()"
   ]
  },
  {
   "cell_type": "code",
   "execution_count": 32,
   "id": "85d3fb48",
   "metadata": {},
   "outputs": [
    {
     "data": {
      "text/html": [
       "<div>\n",
       "<style scoped>\n",
       "    .dataframe tbody tr th:only-of-type {\n",
       "        vertical-align: middle;\n",
       "    }\n",
       "\n",
       "    .dataframe tbody tr th {\n",
       "        vertical-align: top;\n",
       "    }\n",
       "\n",
       "    .dataframe thead th {\n",
       "        text-align: right;\n",
       "    }\n",
       "</style>\n",
       "<table border=\"1\" class=\"dataframe\">\n",
       "  <thead>\n",
       "    <tr style=\"text-align: right;\">\n",
       "      <th></th>\n",
       "      <th>id</th>\n",
       "      <th>y</th>\n",
       "    </tr>\n",
       "  </thead>\n",
       "  <tbody>\n",
       "    <tr>\n",
       "      <th>0</th>\n",
       "      <td>1</td>\n",
       "      <td>1</td>\n",
       "    </tr>\n",
       "    <tr>\n",
       "      <th>1</th>\n",
       "      <td>2</td>\n",
       "      <td>0</td>\n",
       "    </tr>\n",
       "    <tr>\n",
       "      <th>2</th>\n",
       "      <td>3</td>\n",
       "      <td>0</td>\n",
       "    </tr>\n",
       "    <tr>\n",
       "      <th>3</th>\n",
       "      <td>4</td>\n",
       "      <td>2</td>\n",
       "    </tr>\n",
       "    <tr>\n",
       "      <th>4</th>\n",
       "      <td>5</td>\n",
       "      <td>1</td>\n",
       "    </tr>\n",
       "    <tr>\n",
       "      <th>...</th>\n",
       "      <td>...</td>\n",
       "      <td>...</td>\n",
       "    </tr>\n",
       "    <tr>\n",
       "      <th>1995</th>\n",
       "      <td>1996</td>\n",
       "      <td>1</td>\n",
       "    </tr>\n",
       "    <tr>\n",
       "      <th>1996</th>\n",
       "      <td>1997</td>\n",
       "      <td>1</td>\n",
       "    </tr>\n",
       "    <tr>\n",
       "      <th>1997</th>\n",
       "      <td>1998</td>\n",
       "      <td>2</td>\n",
       "    </tr>\n",
       "    <tr>\n",
       "      <th>1998</th>\n",
       "      <td>1999</td>\n",
       "      <td>1</td>\n",
       "    </tr>\n",
       "    <tr>\n",
       "      <th>1999</th>\n",
       "      <td>2000</td>\n",
       "      <td>1</td>\n",
       "    </tr>\n",
       "  </tbody>\n",
       "</table>\n",
       "<p>2000 rows × 2 columns</p>\n",
       "</div>"
      ],
      "text/plain": [
       "        id  y\n",
       "0        1  1\n",
       "1        2  0\n",
       "2        3  0\n",
       "3        4  2\n",
       "4        5  1\n",
       "...    ... ..\n",
       "1995  1996  1\n",
       "1996  1997  1\n",
       "1997  1998  2\n",
       "1998  1999  1\n",
       "1999  2000  1\n",
       "\n",
       "[2000 rows x 2 columns]"
      ]
     },
     "execution_count": 32,
     "metadata": {},
     "output_type": "execute_result"
    }
   ],
   "source": [
    "pred_df = pd.DataFrame(columns=['id', 'y'])\n",
    "pred_df['id'] = [i+1 for i in range(2000)]\n",
    "pred_df['y'] = np.argmax(pred, axis=1).astype('int')\n",
    "pred_df"
   ]
  },
  {
   "cell_type": "code",
   "execution_count": 33,
   "id": "standing-partner",
   "metadata": {},
   "outputs": [],
   "source": [
    "pred_df.to_csv(\"../output/ensamble_submission_16.csv\", index=False)"
   ]
  },
  {
   "cell_type": "code",
   "execution_count": 7,
   "id": "multiple-improvement",
   "metadata": {},
   "outputs": [
    {
     "data": {
      "text/plain": [
       "0    984\n",
       "1    677\n",
       "3    170\n",
       "2    169\n",
       "Name: y, dtype: int64"
      ]
     },
     "execution_count": 7,
     "metadata": {},
     "output_type": "execute_result"
    }
   ],
   "source": [
    "pred_df['y'].value_counts()"
   ]
  },
  {
   "cell_type": "code",
   "execution_count": 10,
   "id": "affecting-folder",
   "metadata": {},
   "outputs": [
    {
     "data": {
      "text/plain": [
       "0    989\n",
       "1    673\n",
       "2    173\n",
       "3    165\n",
       "Name: y, dtype: int64"
      ]
     },
     "execution_count": 10,
     "metadata": {},
     "output_type": "execute_result"
    }
   ],
   "source": [
    "pred_df['y'].value_counts()"
   ]
  },
  {
   "cell_type": "code",
   "execution_count": 11,
   "id": "9cc75edd",
   "metadata": {},
   "outputs": [
    {
     "data": {
      "text/plain": [
       "<AxesSubplot:>"
      ]
     },
     "execution_count": 11,
     "metadata": {},
     "output_type": "execute_result"
    },
    {
     "data": {
      "image/png": "[encoded data removed]",
      "text/plain": [
       "<Figure size 432x288 with 1 Axes>"
      ]
     },
     "metadata": {
      "needs_background": "light"
     },
     "output_type": "display_data"
    }
   ],
   "source": [
    "pred_df['y'].hist()"
   ]
  },
  {
   "cell_type": "code",
   "execution_count": null,
   "id": "e240e1ff",
   "metadata": {},
   "outputs": [],
   "source": []
  }
 ],
 "metadata": {
  "kernelspec": {
   "display_name": "Python 3",
   "language": "python",
   "name": "python3"
  },
  "language_info": {
   "codemirror_mode": {
    "name": "ipython",
    "version": 3
   },
   "file_extension": ".py",
   "mimetype": "text/x-python",
   "name": "python",
   "nbconvert_exporter": "python",
   "pygments_lexer": "ipython3",
   "version": "3.7.10"
  }
 },
 "nbformat": 4,
 "nbformat_minor": 5
}
